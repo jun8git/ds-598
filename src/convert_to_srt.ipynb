{
  "nbformat": 4,
  "nbformat_minor": 0,
  "metadata": {
    "colab": {
      "provenance": []
    },
    "kernelspec": {
      "name": "python3",
      "display_name": "Python 3"
    },
    "language_info": {
      "name": "python"
    }
  },
  "cells": [
    {
      "cell_type": "markdown",
      "source": [
        "There's some error in this package, it only works well on google colab(or other linux systems)."
      ],
      "metadata": {
        "id": "N0T6R6lcMxYn"
      }
    },
    {
      "cell_type": "code",
      "execution_count": null,
      "metadata": {
        "id": "i1n3YU21MI15"
      },
      "outputs": [],
      "source": [
        "!pip install -q numpy\n",
        "!apt-get install ffmpeg\n",
        "!apt-get install espeak\n",
        "!pip install -q beautifulsoup4\n",
        "!pip install -q lxml\n",
        "!apt-get install libgdal-dev"
      ]
    },
    {
      "cell_type": "code",
      "source": [
        "!wget https://raw.githubusercontent.com/readbeyond/aeneas/master/install_dependencies.sh\n",
        "!bash install_dependencies.sh"
      ],
      "metadata": {
        "id": "PRl6EOgGMRP2"
      },
      "execution_count": null,
      "outputs": []
    },
    {
      "cell_type": "code",
      "source": [
        "!git clone https://github.com/ReadBeyond/aeneas.git\n",
        "!cd /content/aeneas\n",
        "!sudo pip install -r /content/aeneas/requirements.txt\n",
        "!python /content/aeneas/setup.py build_ext --inplace\n",
        "!python /content/aeneas/aeneas_check_setup.py\n",
        "!pip install -q aeneas"
      ],
      "metadata": {
        "id": "k_b0XA9SMVwn"
      },
      "execution_count": null,
      "outputs": []
    },
    {
      "cell_type": "code",
      "source": [
        "!python -m aeneas.diagnostics"
      ],
      "metadata": {
        "id": "eLN23vkNMrwO"
      },
      "execution_count": null,
      "outputs": []
    },
    {
      "cell_type": "code",
      "source": [
        "import aeneas.globalconstants as gc\n",
        "from aeneas.executetask import ExecuteTask\n",
        "from aeneas.task import Task\n",
        "import json\n",
        "\n",
        "def format_time(aeneas_time):\n",
        "    \"\"\" Converts aeneas time format to SRT time format \"\"\"\n",
        "    hours, remainder = divmod(float(aeneas_time), 3600)\n",
        "    minutes, seconds = divmod(remainder, 60)\n",
        "    return f\"{int(hours):02}:{int(minutes):02}:{seconds:06.3f}\".replace('.', ',')\n",
        "\n",
        "def process_aeneas_output(sync_map_file):\n",
        "    \"\"\"Process the output from aeneas to create an SRT file.\"\"\"\n",
        "    with open(sync_map_file, 'r') as f:\n",
        "        sync_map = json.load(f)\n",
        "\n",
        "    srt_template = \"{index}\\n{start} --> {end}\\n{text}\\n\\n\"\n",
        "    index = 1\n",
        "    with open('subtitles.srt', 'w') as srt_file:\n",
        "        for fragment in sync_map['fragments']:\n",
        "            # Replace <eol> with a newline for two-line display, and remove <eob> tags\n",
        "            text = fragment['lines'][0].replace('<eol> ', '\\n').replace('<eob>', '').strip()\n",
        "            start = format_time(fragment['begin'])\n",
        "            end = format_time(fragment['end'])\n",
        "            srt_file.write(srt_template.format(index=index, start=start, end=end, text=text))\n",
        "            index += 1\n",
        "\n",
        "def main():\n",
        "    # Initialize the file name\n",
        "    audio_file = \"\"\n",
        "    text_file = \"\"\n",
        "    # Create a Task object\n",
        "    config_string = u\"task_language=eng|is_text_type=plain|os_task_file_format=json\"\n",
        "    task = Task(config_string=config_string)\n",
        "    task.text_file_path_absolute = f\"/content/{text_file}.txt\"\n",
        "    task.audio_file_path_absolute = f\"/content/{audio_file}.mp3\"\n",
        "    task.sync_map_file_path_absolute = \"/content/syncmap.json\"\n",
        "\n",
        "    # Process the task\n",
        "    ExecuteTask(task).execute()\n",
        "\n",
        "    # Output the sync map to a file and process it\n",
        "    task.output_sync_map_file()\n",
        "\n",
        "    # Process the aeneas output to create an SRT file\n",
        "    process_aeneas_output(task.sync_map_file_path_absolute)\n",
        "\n",
        "if __name__ == \"__main__\":\n",
        "    main()\n"
      ],
      "metadata": {
        "id": "xG8VuFHNTURd"
      },
      "execution_count": 10,
      "outputs": []
    }
  ]
}